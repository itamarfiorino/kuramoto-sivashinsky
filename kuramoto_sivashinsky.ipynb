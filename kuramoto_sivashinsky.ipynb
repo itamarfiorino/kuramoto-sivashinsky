{
 "cells": [
  {
   "cell_type": "code",
   "execution_count": 1,
   "id": "a4cfdf31-8cc9-49af-91b9-b20128924518",
   "metadata": {},
   "outputs": [],
   "source": [
    "using FFTW"
   ]
  },
  {
   "cell_type": "code",
   "execution_count": 2,
   "id": "26f4378f-af3a-4cc1-bee0-2bee081d7b86",
   "metadata": {
    "scrolled": true
   },
   "outputs": [],
   "source": [
    "using Plots\n",
    "using Dates\n",
    "using BenchmarkTools"
   ]
  },
  {
   "cell_type": "markdown",
   "id": "f057a330-88fc-42bc-a640-6febeb95bd87",
   "metadata": {},
   "source": [
    "# The Kuramoto-Sivashinsky Equation: Numerics"
   ]
  },
  {
   "cell_type": "markdown",
   "id": "ea178065-1699-4736-b292-adc69cec908c",
   "metadata": {},
   "source": [
    "The Kuramoto-Sivashinsky equation is a PDE that was originally formulated to describe the [fronts of laminar flames](https://www.jstor.org/stable/2100687?seq=1) by G.I. Sivashinsky. The PDE has two forms. In one-dimension, it may be written in *derivative form*:\n",
    "$$u_t + u u_x + u_{xx} + u_{xxxx} = 0$$\n",
    "or in *integral form*, which relies on the change of variables $u = v_t$:\n",
    "$$v_t + \\frac 1 2 v_x^2 + v_{xx} + v_{xxxx} = 0$$\n",
    "In multiple dimensions, it takes the form\n",
    "$$u_t + a \\lvert \\nabla u \\rvert^2 + \\Delta u + \\Delta^2 u = 0$$\n",
    "Where $a$ is often set to $\\frac 1 2$"
   ]
  },
  {
   "cell_type": "markdown",
   "id": "5338ab13-78f8-4c19-83fb-b78362671fb1",
   "metadata": {},
   "source": [
    "# One-Dimensional Solver\n",
    "We will use Galerkin reduction, representing $v$ as a partial fourier series\n",
    "$$v \\approx v^N = \\sum_{k = -N}^N c_k(t) \\exp {\\frac{2 \\pi i k x}{L}}$$\n",
    "where the solutions are kept real by enforcing $c_{-k} = c_k^*$. We will also set $L = 2 \\pi K$. Then performing Galerkin Reduction, we have the following system of ODEs:\n",
    "$$\\frac{d}{dt}c_m(t) = \\left(\\frac{m^2}{K^2} - \\frac{m^4}{K^4}\\right) c_m(t) + \\frac{a}{K^2}\\sum_{k = -N}^{N} k(m - k) c_k(t)c_{m - k}(t)$$\n",
    "wherever the summand is defined. We can integrate this using our exponential second-order method.\n",
    "\n",
    "## Integrator"
   ]
  },
  {
   "cell_type": "code",
   "execution_count": 3,
   "id": "1dfbcec1-a897-446f-b7a5-192fa65b9cef",
   "metadata": {},
   "outputs": [
    {
     "data": {
      "text/plain": [
       "Expo_Heun (generic function with 1 method)"
      ]
     },
     "execution_count": 3,
     "metadata": {},
     "output_type": "execute_result"
    }
   ],
   "source": [
    "function Expo_Heun(T, λ, c₀, g, h, N)\n",
    "    c = zeros(Complex, T, N+1)\n",
    "    c[1, :] = c₀\n",
    "    φ(m) = (ℯ^m - 1) / m * (m != 0) + 1 * (m == 0)\n",
    "    φ₀(m) = 1 / m^2 * (ℯ^m - m - 1) * (m != 0) + 1/2 * (m == 0)\n",
    "    φ₁(m) = 1 / m^2 * (m * ℯ^m - ℯ^m + 1) * (m != 0) + 1/2 * (m == 0)\n",
    "    for i in 1:T-1\n",
    "        ### Euler Steps\n",
    "        c_EULER = ℯ.^(-h * λ) .* (c[i, :] + h * φ.(h * λ) .* g(c[i, :]))\n",
    "\n",
    "        ### In-class CN Steps\n",
    "        c[i+1, :] = ℯ.^(-h * λ) .* (c[i, :] + h * φ₀.(h * λ) .* g(c[i, :]) + h .* φ₁.(h * λ) .* g(c_EULER))\n",
    "    end\n",
    "    return c\n",
    "end"
   ]
  },
  {
   "cell_type": "markdown",
   "id": "d97f88bd-20ea-4bc3-ab59-65838f355b73",
   "metadata": {},
   "source": [
    "## Nonlinear Term"
   ]
  },
  {
   "cell_type": "code",
   "execution_count": 4,
   "id": "165d5535-2397-482f-a327-d24df057d761",
   "metadata": {},
   "outputs": [
    {
     "data": {
      "text/plain": [
       "conv_all_int (generic function with 1 method)"
      ]
     },
     "execution_count": 4,
     "metadata": {},
     "output_type": "execute_result"
    }
   ],
   "source": [
    "function compute_convolution(c, m, N, K)\n",
    "    sum = 0.0im\n",
    "    for k in -N:N\n",
    "        if abs(m-k) ≤ N\n",
    "            ck = k < 0 ? conj(c[abs(k)+1]) : c[abs(k)+1]\n",
    "            cm_k = (m-k) < 0 ? conj(c[abs(m-k)+1]) : c[abs(m-k)+1]\n",
    "            sum += im*k*ck*cm_k\n",
    "        end\n",
    "    end\n",
    "    return sum/K\n",
    "end\n",
    "\n",
    "function compute_convolution_int(c, m, N, K)\n",
    "    sum = 0.0im\n",
    "    for k in -N:N\n",
    "        if abs(m-k) ≤ N\n",
    "            ck = k < 0 ? conj(c[abs(k)+1]) : c[abs(k)+1]\n",
    "            cm_k = (m-k) < 0 ? conj(c[abs(m-k)+1]) : c[abs(m-k)+1]\n",
    "            sum += k*(m-k)*ck*cm_k\n",
    "        end\n",
    "    end\n",
    "    return sum/K^2  # Added the 1/K^2 factor\n",
    "end\n",
    "\n",
    "function conv_all(c, N, K)\n",
    "    out = zeros(Complex, N+1)\n",
    "    for m = 0:N\n",
    "        out[m + 1] = compute_convolution(c, m, N, K)\n",
    "    end\n",
    "    return out\n",
    "end\n",
    "\n",
    "function conv_all_int(c, N, K)\n",
    "    out = zeros(Complex, N+1)\n",
    "    for m = 0:N\n",
    "        out[m + 1] = compute_convolution_int(c, m, N, K)\n",
    "    end\n",
    "    return out\n",
    "end"
   ]
  },
  {
   "cell_type": "markdown",
   "id": "db0f66d2-0aa8-4b17-bfe9-3dd64f6dbec2",
   "metadata": {},
   "source": [
    "## Frequency Domain and Spatial Domain"
   ]
  },
  {
   "cell_type": "code",
   "execution_count": 5,
   "id": "a7d0996a-49d9-45ef-be19-a8facf1f1f7b",
   "metadata": {},
   "outputs": [
    {
     "data": {
      "text/plain": [
       "frequency_to_space (generic function with 1 method)"
      ]
     },
     "execution_count": 5,
     "metadata": {},
     "output_type": "execute_result"
    }
   ],
   "source": [
    "function frequency_to_space(c, K)\n",
    "    N = size(c)[1] - 1\n",
    "    return x -> begin\n",
    "        u = c[1]  # k=0 term\n",
    "        for k in 1:N\n",
    "            u += c[k+1]*exp(im*k*x / K) + conj(c[k+1])*exp(-im*k*x / K)\n",
    "        end\n",
    "        return real(u)\n",
    "    end\n",
    "end"
   ]
  },
  {
   "cell_type": "markdown",
   "id": "e5f427f1-171a-498e-a84e-f0c158d16ec4",
   "metadata": {},
   "source": [
    "## Kuramoto-Sivashinsky Test"
   ]
  },
  {
   "cell_type": "code",
   "execution_count": 24,
   "id": "2eed9ebb-90cf-4402-b1bd-a50293e6da2f",
   "metadata": {},
   "outputs": [
    {
     "data": {
      "text/plain": [
       "Animation(\"/var/folders/qm/0fw8nlh915s8bk_yfrn_y8vm0000gp/T/jl_COtXiW\", [\"000001.png\", \"000002.png\", \"000003.png\", \"000004.png\", \"000005.png\", \"000006.png\", \"000007.png\", \"000008.png\", \"000009.png\", \"000010.png\"  …  \"000991.png\", \"000992.png\", \"000993.png\", \"000994.png\", \"000995.png\", \"000996.png\", \"000997.png\", \"000998.png\", \"000999.png\", \"001000.png\"])"
      ]
     },
     "execution_count": 24,
     "metadata": {},
     "output_type": "execute_result"
    }
   ],
   "source": [
    "N = 150\n",
    "h = 1/10\n",
    "a = 1\n",
    "K = 40\n",
    "L = 2 * π * K\n",
    "g(c) = - a .* conv_all(c, N, K)\n",
    "λ(ε, N) = [(-m^2 / K^2 + ε * m^4 / K^4) for m in 0:N]\n",
    "\n",
    "T = 1000\n",
    "\n",
    "c₀ = [rand(Complex{Float64})/(1 + k) * .05 for k in 0:N]\n",
    "c₀[1] = 0\n",
    "\n",
    "x = range(0, L, length = 500)\n",
    "\n",
    "c = Expo_Heun(T, λ(1, N), c₀, g, h, N)\n",
    "\n",
    "st = mapreduce(permutedims, vcat, ([frequency_to_space(c[i,:], K).(x) for i in 1:T]))\n",
    "\n",
    "anim = @animate for i in 1:T\n",
    "    u = frequency_to_space(c[i,:], K)\n",
    "    plot(x, u, ylims = (-3,3))\n",
    "end\n",
    "# display(gif(anim, \"animation.gif\", fps=40))"
   ]
  },
  {
   "cell_type": "code",
   "execution_count": 27,
   "id": "b6d776e7-2ba4-43e5-b83a-f1624c53b103",
   "metadata": {
    "scrolled": true
   },
   "outputs": [
    {
     "data": {
      "text/plain": [
       "Animation(\"/var/folders/qm/0fw8nlh915s8bk_yfrn_y8vm0000gp/T/jl_87x6zi\", [\"000001.png\", \"000002.png\", \"000003.png\", \"000004.png\", \"000005.png\", \"000006.png\", \"000007.png\", \"000008.png\", \"000009.png\", \"000010.png\"  …  \"000991.png\", \"000992.png\", \"000993.png\", \"000994.png\", \"000995.png\", \"000996.png\", \"000997.png\", \"000998.png\", \"000999.png\", \"001000.png\"])"
      ]
     },
     "execution_count": 27,
     "metadata": {},
     "output_type": "execute_result"
    }
   ],
   "source": [
    "N = 40\n",
    "h = 1/15\n",
    "a = 1/2\n",
    "K = 15\n",
    "L = 2 * π * K\n",
    "g(c) = + a .* conv_all_int(c, N, K)\n",
    "λ(ε, N) = [(-m^2 / K^2 + ε * m^4 / K^4) for m in 0:N]\n",
    "\n",
    "T = 1000\n",
    "\n",
    "c₀ = [rand(Complex{Float64})/(1 + k) * .05 for k in 0:N]\n",
    "c₀[1] = 0\n",
    "\n",
    "x = range(0, L, length = 500)\n",
    "\n",
    "c = Expo_Heun(T, λ(1, N), c₀, g, h, N)\n",
    "\n",
    "st = mapreduce(permutedims, vcat, ([frequency_to_space(c[i,:], K).(x) for i in 1:T]))\n",
    "\n",
    "anim = @animate for i in 1:T\n",
    "    u = frequency_to_space(c[i,:], K)\n",
    "    plot(x, u)\n",
    "end\n",
    "# display(gif(anim, \"animation.gif\", fps=40))"
   ]
  },
  {
   "cell_type": "code",
   "execution_count": 26,
   "id": "dbb14e5b-97b3-4d86-8eda-6b26fe97bb83",
   "metadata": {},
   "outputs": [
    {
     "data": {
      "text/plain": [
       "\"/Users/azul/Documents/Assignments/APMA 2550/Final Exam/kuramoto-sivashinsky/plots/ks1d1.png\""
      ]
     },
     "execution_count": 26,
     "metadata": {},
     "output_type": "execute_result"
    }
   ],
   "source": [
    "p=heatmap(x, h:h:T*h, st,\n",
    "    size=(1000, 600),\n",
    "    camera = ((135), 40),\n",
    "    zlims=(-6,6),\n",
    "    # legend=:none,\n",
    "    title=\"Kuramoto-Sivashinsky chaos (derivative form)\",\n",
    "    xticks=0:50:L,\n",
    "    xlabel=\"\\$x\\$\",\n",
    "    ylabel=\"\\$t\\$\"\n",
    ")\n",
    "savefig(p, \"plots/ks1d2\")"
   ]
  },
  {
   "cell_type": "code",
   "execution_count": 37,
   "id": "554733ed-7e2c-4d1a-904e-e1a96db98ffd",
   "metadata": {},
   "outputs": [
    {
     "data": {
      "text/plain": [
       "\"/Users/azul/Documents/Assignments/APMA 2550/Final Exam/kuramoto-sivashinsky/plots/ks1d2.png\""
      ]
     },
     "execution_count": 37,
     "metadata": {},
     "output_type": "execute_result"
    }
   ],
   "source": [
    "p=surface(x, h:h:T*h, st,\n",
    "    size=(1000, 600),\n",
    "    camera = ((135), 40),\n",
    "    # zlims=(-6,1),\n",
    "    # legend=:none,\n",
    "    title=\"Kuramoto-Sivashinsky chaos (derivative form)\",\n",
    "    xticks=0:50:L,\n",
    "    xlabel=\"\\$x\\$\",\n",
    "    ylabel=\"\\$t\\$\"\n",
    ")\n",
    "savefig(p, \"plots/ks1d2\")"
   ]
  },
  {
   "cell_type": "code",
   "execution_count": 28,
   "id": "55f108a7-71c9-4e90-8b68-b02fc38a820b",
   "metadata": {},
   "outputs": [],
   "source": [
    "c_avg = copy(c)\n",
    "c_avg[:,1] .= 0\n",
    "st2 = mapreduce(permutedims, vcat, ([frequency_to_space(c_avg[i,:], K).(x) for i in 1:T]));"
   ]
  },
  {
   "cell_type": "code",
   "execution_count": 38,
   "id": "6f389e11-43c5-4639-a711-321dbdc86168",
   "metadata": {},
   "outputs": [
    {
     "data": {
      "text/plain": [
       "\"/Users/azul/Documents/Assignments/APMA 2550/Final Exam/kuramoto-sivashinsky/plots/ks1d3.png\""
      ]
     },
     "execution_count": 38,
     "metadata": {},
     "output_type": "execute_result"
    }
   ],
   "source": [
    "p = heatmap(x, h:h:T*h, st2,\n",
    "    size=(1000, 600),\n",
    "    camera = ((135), 40),\n",
    "    zlims=(-6,6),\n",
    "    legend=:none,\n",
    "    title=\"Integral Form\",\n",
    "    # xticks=0:50:L,\n",
    "    xlabel=\"\\$x\\$\",\n",
    "    ylabel=\"\\$t\\$\"\n",
    ")\n",
    "savefig(p, \"plots/ks1d3\")"
   ]
  }
 ],
 "metadata": {
  "kernelspec": {
   "display_name": "Julia 1.10.1",
   "language": "julia",
   "name": "julia-1.10"
  },
  "language_info": {
   "file_extension": ".jl",
   "mimetype": "application/julia",
   "name": "julia",
   "version": "1.10.1"
  }
 },
 "nbformat": 4,
 "nbformat_minor": 5
}
