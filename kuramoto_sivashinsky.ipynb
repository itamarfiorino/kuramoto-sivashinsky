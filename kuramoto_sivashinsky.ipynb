{
 "cells": [
  {
   "cell_type": "code",
   "execution_count": 16,
   "id": "26f4378f-af3a-4cc1-bee0-2bee081d7b86",
   "metadata": {
    "scrolled": true
   },
   "outputs": [],
   "source": [
    "using Plots\n",
    "using Dates\n",
    "using BenchmarkTools"
   ]
  },
  {
   "cell_type": "markdown",
   "id": "f057a330-88fc-42bc-a640-6febeb95bd87",
   "metadata": {},
   "source": [
    "# The Kuramoto-Sivashinsky Equation: Numerics"
   ]
  },
  {
   "cell_type": "markdown",
   "id": "ea178065-1699-4736-b292-adc69cec908c",
   "metadata": {},
   "source": [
    "The Kuramoto-Sivashinsky equation is a PDE that was originally formulated to describe the [fronts of laminar flames](https://www.jstor.org/stable/2100687?seq=1) by G.I. Sivashinsky. The PDE has two forms. In one-dimension, it may be written in *derivative form*:\n",
    "$$u_t + u u_x + u_{xx} + u_{xxxx} = 0$$\n",
    "or in *integral form*, which relies on the change of variables $u = v_t$:\n",
    "$$v_t + \\frac 1 2 v_x^2 + v_{xx} + v_{xxxx} = 0$$\n",
    "In multiple dimensions, it takes the form\n",
    "$$u_t + \\frac 1 2 \\lvert \\nabla u \\rvert^2 + \\Delta u + \\Delta^2 u = 0$$"
   ]
  },
  {
   "cell_type": "code",
   "execution_count": null,
   "id": "2a5a632c-9bdc-4198-a8db-00b5540f8d8f",
   "metadata": {},
   "outputs": [],
   "source": []
  }
 ],
 "metadata": {
  "kernelspec": {
   "display_name": "Julia 1.10.1",
   "language": "julia",
   "name": "julia-1.10"
  },
  "language_info": {
   "file_extension": ".jl",
   "mimetype": "application/julia",
   "name": "julia",
   "version": "1.10.1"
  }
 },
 "nbformat": 4,
 "nbformat_minor": 5
}
