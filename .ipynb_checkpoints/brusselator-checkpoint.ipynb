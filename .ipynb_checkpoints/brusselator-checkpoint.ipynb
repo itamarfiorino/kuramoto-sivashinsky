{
 "cells": [
  {
   "cell_type": "code",
   "execution_count": 6,
   "id": "26f4378f-af3a-4cc1-bee0-2bee081d7b86",
   "metadata": {
    "scrolled": true
   },
   "outputs": [],
   "source": [
    "using Plots\n",
    "using DSP\n",
    "using Dates\n",
    "using BenchmarkTools"
   ]
  },
  {
   "cell_type": "markdown",
   "id": "f057a330-88fc-42bc-a640-6febeb95bd87",
   "metadata": {},
   "source": [
    "# 1-Dimensional Brusselator"
   ]
  },
  {
   "cell_type": "markdown",
   "id": "ef5b5b25-de98-4fdb-ab70-7bffb88b109b",
   "metadata": {},
   "source": [
    "## Convolution"
   ]
  },
  {
   "cell_type": "code",
   "execution_count": 11,
   "id": "fded9f7b-292e-46f2-a25c-59de196411ef",
   "metadata": {},
   "outputs": [
    {
     "name": "stdout",
     "output_type": "stream",
     "text": [
      "1814\n",
      "56\n"
     ]
    }
   ],
   "source": [
    "function trip_conv(α, β, m)\n",
    "    N = length(α) - 1\n",
    "    res = 0\n",
    "    for j = -N:N\n",
    "        for k = -N:N\n",
    "            if abs(m - j - k) <= N\n",
    "                res = res + α[abs(j) + 1] * α[abs(k) + 1] * β[abs(m - j - k) + 1]\n",
    "            end\n",
    "        end\n",
    "    end\n",
    "    return res\n",
    "end\n",
    "function convolve_vector(α, β)\n",
    "    out = zeros(size(α))\n",
    "    for i in 1:length(α)\n",
    "        out[i] = trip_conv(α, β, i - 1)\n",
    "    end\n",
    "    return out\n",
    "end\n",
    "\n",
    "α = [1,2,3,4,5]\n",
    "β = [1,2,3,4,5]\n",
    "m = 3\n",
    "println(trip_conv(α, β, m))\n",
    "println(conv(α, conv(α, β))[4])\n",
    "\n",
    "# This is = conv(α, conv(α, β))[m]"
   ]
  },
  {
   "cell_type": "markdown",
   "id": "2214208d-1b91-4362-83b2-a00c0a9464bf",
   "metadata": {},
   "source": [
    "## Integrators"
   ]
  },
  {
   "cell_type": "code",
   "execution_count": 2,
   "id": "8b9b58f0-961d-4325-ae78-1d6f172d3972",
   "metadata": {},
   "outputs": [
    {
     "data": {
      "text/plain": [
       "Expo_Heun (generic function with 1 method)"
      ]
     },
     "execution_count": 2,
     "metadata": {},
     "output_type": "execute_result"
    }
   ],
   "source": [
    "function Expo_Heun(T, λ₁, λ₂, α₀, β₀, g, f, h, N)\n",
    "    α = zeros(T, N+1)\n",
    "    β = zeros(T, N+1)\n",
    "    α[1, :] = α₀\n",
    "    β[1, :] = β₀\n",
    "    c(m) = (ℯ^m - 1) / m * (m != 0) + 1 * (m == 0)\n",
    "    c₀(m) = 1 / m^2 * (ℯ^m - m - 1) * (m != 0) + 1/2 * (m == 0)\n",
    "    c₁(m) = 1 / m^2 * (m * ℯ^m - m + 1) * (m != 0) + 1/2 * (m == 0)\n",
    "    for i in 1:T-1\n",
    "        # ### Euler Steps\n",
    "        # α[i+1, :] = ℯ.^(-h * λ₁) .* (α[i, :] - h * c.(h * λ₁) .* g(α[i, :], β[i, :]))\n",
    "        # β[i+1, :] = ℯ.^(-h * λ₂) .* (β[i, :] - h * c.(h * λ₂) .* f(α[i, :], β[i, :]))\n",
    "\n",
    "        ### Euler Steps\n",
    "        α_EULER = ℯ.^(-h * λ₁) .* (α[i, :] + h * c.(h * λ₁) .* g(α[i, :], β[i, :]))\n",
    "        β_EULER = ℯ.^(-h * λ₂) .* (β[i, :] + h * c.(h * λ₂) .* f(α[i, :], β[i, :]))\n",
    "\n",
    "        ### In-class CN Steps\n",
    "        α[i+1, :] = ℯ.^(-h * λ₁) .* (α[i, :] + h * c₀.(h * λ₁) .* g(α[i, :], β[i, :]) + h .* c₁.(h * λ₁) .* g(α_EULER, β_EULER))\n",
    "        β[i+1, :] = ℯ.^(-h * λ₂) .* (β[i, :] + h * c₀.(h * λ₂) .* f(α[i, :], β[i, :]) + h .* c₁.(h * λ₂) .* f(α_EULER, β_EULER))\n",
    "\n",
    "        # print(\"α₀ ratio = \", α[i+1, 1]/α[i, 1])        \n",
    "    end\n",
    "    return α, β\n",
    "end"
   ]
  },
  {
   "cell_type": "markdown",
   "id": "a4cada68-dd23-46ae-a43b-8b0d940c9fe1",
   "metadata": {},
   "source": [
    "## Numerical Solutions"
   ]
  },
  {
   "cell_type": "code",
   "execution_count": null,
   "id": "321b5d8a-f934-49fe-8afc-01c93891f667",
   "metadata": {},
   "outputs": [],
   "source": [
    "function integrate_trapezoidal(f, N)\n",
    "    out = 0\n",
    "    for k = 0:N-1\n",
    "        out = out + π * (f(π * k/N) + f(π * (k+1)/N)) / (2 * N)\n",
    "    end\n",
    "    return out\n",
    "end\n",
    "\n",
    "function initial_conditions(u_init, modes)\n",
    "    return [1 / π * integrate_trapezoidal(x -> u_init(x) * \n",
    "            cos(m * x), 2 * modes + 1) for m in 0:modes]\n",
    "end\n",
    "\n",
    "function function_from_modes(α)\n",
    "    N = length(α)\n",
    "    return x -> α[1] + 2 * sum([α[k+1] * cos(k * x) for k in 1:N-1])\n",
    "end\n",
    "\n",
    "N̂ = [10]#[0, 20, 40, 60, 80, 100]\n",
    "h = 1/5\n",
    "a = 1\n",
    "b = 3\n",
    "ε₁ = 1/20\n",
    "ε₂ = 1/10\n",
    "g₀(α, β, a, b) = conv(α, conv(α, β))[1:length(α)] - (1 + b) * α .+ append!([a], zeros(length(α) - 1))\n",
    "f₀(α, β, a, b) = - conv(α, conv(α, β))[1:length(α)] + b * α\n",
    "g(α, β) = g₀(α, β, a, b)\n",
    "f(α, β) = f₀(α, β, a, b)\n",
    "λ(ε, N) = [(ε * m^2) for m in 0:N]\n",
    "\n",
    "for N in N̂\n",
    "    α₀ = initial_conditions((x -> a + rand() * 0.01), N)\n",
    "    β₀ = initial_conditions((x -> b / a + rand() * 0.01), N)\n",
    "\n",
    "    ### Animation Code\n",
    "    α, β = Expo_Heun(200, λ(ε₁, N), λ(ε₂, N), α₀, β₀, g, f, h, N)\n",
    "    anim = @animate for i in 1:200\n",
    "        plot((0:.01:π), function_from_modes(α[i, :]).(0:.01:π), ylims=(0,7), label = \"α, N = $(N)\")\n",
    "        plot!((0:.01:π), function_from_modes(β[i, :]).(0:.01:π), ylims=(0,7), label = \"β, N = $(N)\")\n",
    "    end\n",
    "    gif(anim, \"animation.gif\", fps=20)\n",
    "\n",
    "    # ### Phase Plot\n",
    "    # if N == 0\n",
    "    #     α, β = Expo_Heun(500, λ(ε₁, N), λ(ε₂, N), α₀, β₀, g, f, h, N)\n",
    "    #     anim = @animate for i in 1:500\n",
    "    #         scatter(α[1:i, 1], β[1:i, 1], xlims=(0,5), ylims=(0,5), label = \"(α₀, β₀)\")\n",
    "    #     end\n",
    "    #     display(scatter(α[1:end, 1], β[1:end, 1], xlims=(0,5), ylims=(0,5), label = \"(α₀, β₀)\"))\n",
    "    #     gif(anim, \"animation.gif\", fps=20)\n",
    "    # end\n",
    "\n",
    "    # α, β = Expo_Heun(200, λ(ε₁, N), λ(ε₂, N), α₀, β₀, g, f, h, N)\n",
    "    # p = plot(title=\"N = $(N)\")\n",
    "    # plot!(p, (0:.01:π), function_from_modes(α[100, :]).(0:.01:π), ylims=(0,7), label = \"α, t = 10\")\n",
    "    # plot!(p, (0:.01:π), function_from_modes(β[100, :]).(0:.01:π), ylims=(0,7), label = \"β, t = 10\")\n",
    "    # plot!(p, (0:.01:π), function_from_modes(α[200, :]).(0:.01:π), ylims=(0,7), label = \"α, t = 20\")\n",
    "    # plot!(p, (0:.01:π), function_from_modes(β[200, :]).(0:.01:π), ylims=(0,7), label = \"β, t = 20\")\n",
    "    # display(p)\n",
    "end\n"
   ]
  },
  {
   "cell_type": "markdown",
   "id": "52919f07-9a1a-4536-b8ab-4d38a56d79b8",
   "metadata": {},
   "source": [
    "# O(n log n) Algorithm for 2-Dimensional Convolution"
   ]
  },
  {
   "cell_type": "code",
   "execution_count": 70,
   "id": "010c28b0-2554-4ecc-948c-d6f73af6ba35",
   "metadata": {},
   "outputs": [
    {
     "data": {
      "text/plain": [
       "all_entries_eff (generic function with 1 method)"
      ]
     },
     "execution_count": 70,
     "metadata": {},
     "output_type": "execute_result"
    }
   ],
   "source": [
    "function compute_Q_efficient(α, β, N, M)\n",
    "    Q = zeros(M, M)\n",
    "    s_values = [(2*m - 1) * π / (2 * M) for m in 1:M+1]\n",
    "    \n",
    "    omega_u = zeros(N+1, M)\n",
    "    omega_v = zeros(N+1, M)\n",
    "    \n",
    "    for k in 1:N+1\n",
    "        for n in 1:M\n",
    "            s_n = s_values[n]\n",
    "            sum_u = 0\n",
    "            sum_v = 0\n",
    "            for l̂ in 1:N+1\n",
    "                l = l̂ - 1\n",
    "                if l != 0\n",
    "                    sum_u += α[k, l̂] * cos(l * s_n)\n",
    "                    sum_v += β[k, l̂] * cos(l * s_n)\n",
    "                else\n",
    "                    sum_u += (1/2) * α[k, l̂] * cos(l * s_n)\n",
    "                    sum_v += (1/2) * β[k, l̂] * cos(l * s_n)\n",
    "                end\n",
    "            end\n",
    "            omega_u[k, n] = 2 * sum_u\n",
    "            omega_v[k, n] = 2 * sum_v\n",
    "        end\n",
    "    end\n",
    "    \n",
    "    for m in 1:M\n",
    "        s_val = s_values[m]\n",
    "        for n in 1:M\n",
    "            u_sum = 0\n",
    "            v_sum = 0\n",
    "            for k̂ in 1:N+1\n",
    "                k = k̂ - 1\n",
    "                if k != 0\n",
    "                    u_sum += omega_u[k̂, n] * cos(k * s_val)\n",
    "                    v_sum += omega_v[k̂, n] * cos(k * s_val)\n",
    "                else\n",
    "                    u_sum += (1/2) * omega_u[k̂, n] * cos(k * s_val)\n",
    "                    v_sum += (1/2) * omega_v[k̂, n] * cos(k * s_val)\n",
    "                end\n",
    "            end    \n",
    "            un_sum = 2 * u_sum\n",
    "            vn_sum = 2 * v_sum\n",
    "            Q[m, n] = un_sum^2 * vn_sum\n",
    "        end\n",
    "    end\n",
    "    \n",
    "    return Q, s_values\n",
    "end\n",
    "\n",
    "function compute_sigma(Q, s_values, N, M)\n",
    "    sigma = zeros(N+1, M)\n",
    "    for ℓ̂ in 1:N+1\n",
    "        ℓ = ℓ̂ - 1\n",
    "        for m in 1:M\n",
    "            sum_value = 0\n",
    "            for n in 1:M\n",
    "                sum_value += Q[m, n] * cos(ℓ * s_values[n])\n",
    "            end\n",
    "            sigma[ℓ̂, m] = sum_value / M\n",
    "        end\n",
    "    end\n",
    "    \n",
    "    return sigma\n",
    "end\n",
    "\n",
    "function compute_triple_product(sigma, s_values, N, M)\n",
    "    triple_product = zeros(N+1, N+1)\n",
    "    \n",
    "    for k̂ in 1:N+1\n",
    "        k = k̂ - 1\n",
    "        for ℓ in 1:N+1\n",
    "            sum_value = 0\n",
    "            for m in 1:M\n",
    "                sum_value += sigma[ℓ, m] * cos(k * s_values[m])\n",
    "            end\n",
    "            triple_product[k̂, ℓ] = sum_value / M\n",
    "        end\n",
    "    end\n",
    "    \n",
    "    return triple_product\n",
    "end\n",
    "\n",
    "function all_entries_eff(a, b, N, M)\n",
    "    Q, s = compute_Q_efficient(a, b, N, M)\n",
    "    σ = compute_sigma(Q, s, N, M)\n",
    "    return compute_triple_product(σ, s, N, M)\n",
    "end"
   ]
  },
  {
   "cell_type": "code",
   "execution_count": 71,
   "id": "81339552-1f65-4f86-b5a1-704a7fd4c1fe",
   "metadata": {},
   "outputs": [
    {
     "data": {
      "text/plain": [
       "4×4 Matrix{Float64}:\n",
       " 3.04529      -0.00261997    0.00112365  -0.000388355\n",
       " 0.00267409   -0.00231927    0.00102078   0.00055467\n",
       " 0.0019792    -0.000262079  -0.00107472  -0.00161554\n",
       " 0.000343014   0.00194001    0.00108084  -0.000416634"
      ]
     },
     "execution_count": 71,
     "metadata": {},
     "output_type": "execute_result"
    }
   ],
   "source": [
    "N = 3\n",
    "M = 2 * N + 1\n",
    "a = [\n",
    "    1.0074 -0.000428724 0.000211051 -6.55045e-05\n",
    "    0.00037641 -0.000401971 0.000208362 5.69628e-05\n",
    "    0.000314326 -1.09382e-05 -0.000212266 -0.000307548\n",
    "    5.76987e-05 0.000338859 0.000188819 -6.93557e-05\n",
    "]\n",
    "\n",
    "b = [\n",
    "    3.00071 -2.54683e-05 -0.000151995 8.0481e-06 \n",
    "    0.000390039 0.000112105 -0.000236913 0.000208895\n",
    "    7.67416e-05 -0.000191853 0.000203555 0.000240355\n",
    "    -5.31369e-06 -0.000105669 -5.95777e-05 3.1128e-06\n",
    "];\n",
    "\n",
    "all_entries_eff(a, b, N, M)"
   ]
  },
  {
   "cell_type": "markdown",
   "id": "37fde8e7-6a6e-4591-91ee-12482d103321",
   "metadata": {},
   "source": [
    "**This agrees with the example values given.**"
   ]
  }
 ],
 "metadata": {
  "kernelspec": {
   "display_name": "Julia 1.10.1",
   "language": "julia",
   "name": "julia-1.10"
  },
  "language_info": {
   "file_extension": ".jl",
   "mimetype": "application/julia",
   "name": "julia",
   "version": "1.10.1"
  }
 },
 "nbformat": 4,
 "nbformat_minor": 5
}
